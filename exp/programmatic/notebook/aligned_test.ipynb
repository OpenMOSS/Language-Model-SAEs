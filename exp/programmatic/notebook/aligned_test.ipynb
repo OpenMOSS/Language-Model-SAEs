{
 "cells": [
  {
   "cell_type": "code",
   "execution_count": 1,
   "metadata": {},
   "outputs": [],
   "source": [
    "%load_ext autoreload\n",
    "%autoreload 2"
   ]
  },
  {
   "cell_type": "code",
   "execution_count": 2,
   "metadata": {},
   "outputs": [],
   "source": [
    "import torch\n",
    "from safetensors.torch import load_file"
   ]
  },
  {
   "cell_type": "code",
   "execution_count": 3,
   "metadata": {},
   "outputs": [],
   "source": [
    "l = 15\n",
    "lr = 8e-05\n",
    "l1coef = 1.5\n",
    "modelnames = [\"base_llama\", \"Instruct_llama\", \"o_llama\"]\n",
    "cc_paths = [\n",
    "    f\"/inspire/hdd/ws-8207e9e2-e733-4eec-a475-cfa1c36480ba/embodied-multimodality/public/zfhe/zf_projects/Language-Model-SAEs/JR_CC_tests/{subject_model}_l{l}_32x_lr{lr}_jumprelu_l1coef{l1coef}/sae_weights.safetensors\"\n",
    "    for subject_model in modelnames\n",
    "]"
   ]
  },
  {
   "cell_type": "code",
   "execution_count": 4,
   "metadata": {},
   "outputs": [
    {
     "data": {
      "text/plain": [
       "'/inspire/hdd/ws-8207e9e2-e733-4eec-a475-cfa1c36480ba/embodied-multimodality/public/zfhe/zf_projects/Language-Model-SAEs/JR_CC_tests/base_llama_l15_32x_lr8e-05_jumprelu_l1coef1.5/sae_weights.safetensors'"
      ]
     },
     "execution_count": 4,
     "metadata": {},
     "output_type": "execute_result"
    }
   ],
   "source": [
    "path = cc_paths[0]\n",
    "ckpt = load_file(path)\n",
    "path"
   ]
  },
  {
   "cell_type": "code",
   "execution_count": 5,
   "metadata": {},
   "outputs": [
    {
     "data": {
      "text/plain": [
       "{'dataset_average_activation_norm.blocks.15.hook_resid_post': tensor(10.8326),\n",
       " 'decoder.bias': tensor([ 0.0389,  0.0463, -0.0303,  ..., -0.0846, -0.2410,  0.1218]),\n",
       " 'decoder.weight': tensor([[-0.0097, -0.0056, -0.0169,  ...,  0.0019,  0.0013,  0.0047],\n",
       "         [ 0.0082, -0.0061, -0.0315,  ..., -0.0031, -0.0051, -0.0183],\n",
       "         [ 0.0036,  0.0340,  0.0158,  ..., -0.0080,  0.0091, -0.0289],\n",
       "         ...,\n",
       "         [-0.0334, -0.0184, -0.0056,  ..., -0.0007, -0.0014, -0.0237],\n",
       "         [ 0.0075, -0.0011,  0.0282,  ..., -0.0012, -0.0124,  0.0198],\n",
       "         [-0.0054, -0.0003, -0.0174,  ..., -0.0063, -0.0021,  0.0434]]),\n",
       " 'encoder.bias': tensor([-0.0216, -0.0104, -0.0106,  ..., -0.0160, -0.0142, -0.0137]),\n",
       " 'encoder.weight': tensor([[-0.0261, -0.0016,  0.0188,  ..., -0.0244,  0.0139, -0.0167],\n",
       "         [ 0.0069, -0.0008,  0.0142,  ..., -0.0102,  0.0026, -0.0035],\n",
       "         [ 0.0020, -0.0103,  0.0191,  ...,  0.0097,  0.0093, -0.0143],\n",
       "         ...,\n",
       "         [ 0.0109,  0.0014, -0.0211,  ...,  0.0003,  0.0038, -0.0088],\n",
       "         [ 0.0180, -0.0110,  0.0084,  ..., -0.0048, -0.0040,  0.0073],\n",
       "         [-0.0025,  0.0083, -0.0099,  ...,  0.0114, -0.0047,  0.0309]]),\n",
       " 'log_jumprelu_threshold': tensor([-0.1907, -0.2523,  0.1283,  ...,  0.5205, -0.0532, -2.1269])}"
      ]
     },
     "execution_count": 5,
     "metadata": {},
     "output_type": "execute_result"
    }
   ],
   "source": [
    "ckpt"
   ]
  },
  {
   "cell_type": "code",
   "execution_count": 6,
   "metadata": {},
   "outputs": [],
   "source": [
    "decoders = []\n",
    "\n",
    "for path in cc_paths:\n",
    "    ckpt = load_file(path)\n",
    "\n",
    "    # scaling_factor = (4096 ** .5) / ckpt[f'dataset_average_activation_norm.blocks.{layer}.hook_resid_post']\n",
    "    decoders.append(ckpt[\"decoder.weight\"].to(\"cuda\"))"
   ]
  },
  {
   "cell_type": "code",
   "execution_count": 7,
   "metadata": {},
   "outputs": [
    {
     "data": {
      "text/plain": [
       "tensor([[-0.0097, -0.0056, -0.0169,  ...,  0.0019,  0.0013,  0.0047],\n",
       "        [ 0.0082, -0.0061, -0.0315,  ..., -0.0031, -0.0051, -0.0183],\n",
       "        [ 0.0036,  0.0340,  0.0158,  ..., -0.0080,  0.0091, -0.0289],\n",
       "        ...,\n",
       "        [-0.0334, -0.0184, -0.0056,  ..., -0.0007, -0.0014, -0.0237],\n",
       "        [ 0.0075, -0.0011,  0.0282,  ..., -0.0012, -0.0124,  0.0198],\n",
       "        [-0.0054, -0.0003, -0.0174,  ..., -0.0063, -0.0021,  0.0434]],\n",
       "       device='cuda:0')"
      ]
     },
     "execution_count": 7,
     "metadata": {},
     "output_type": "execute_result"
    }
   ],
   "source": [
    "decoders[0]"
   ]
  },
  {
   "cell_type": "code",
   "execution_count": 8,
   "metadata": {},
   "outputs": [],
   "source": [
    "import matplotlib.pyplot as plt\n",
    "import torch.nn.functional as F"
   ]
  },
  {
   "cell_type": "code",
   "execution_count": 9,
   "metadata": {},
   "outputs": [],
   "source": [
    "tensor_a = decoders[0]  # B\n",
    "tensor_b = decoders[2]  # O"
   ]
  },
  {
   "cell_type": "code",
   "execution_count": 10,
   "metadata": {},
   "outputs": [
    {
     "data": {
      "text/plain": [
       "tensor([0.8963, 0.9360, 0.9382,  ..., 0.1065, 0.9512, 0.7103], device='cuda:0')"
      ]
     },
     "execution_count": 10,
     "metadata": {},
     "output_type": "execute_result"
    }
   ],
   "source": [
    "cos_sim = F.cosine_similarity(tensor_a.T, tensor_b.T)  # 转置后计算每列之间的余弦相似度\n",
    "cos_sim"
   ]
  },
  {
   "cell_type": "code",
   "execution_count": 73,
   "metadata": {},
   "outputs": [
    {
     "name": "stdout",
     "output_type": "stream",
     "text": [
      "tensor([[0.3312, 0.3456, 0.3289,  ..., 0.1393, 0.3360, 0.3968],\n",
      "        [0.3440, 0.3370, 0.3348,  ..., 0.1557, 0.3291, 0.3378],\n",
      "        [0.3248, 0.3174, 0.3364,  ..., 0.7049, 0.3348, 0.2654]],\n",
      "       device='cuda:0')\n",
      "tensor([[0.3312, 0.3440, 0.3248],\n",
      "        [0.3456, 0.3370, 0.3174],\n",
      "        [0.3289, 0.3348, 0.3364],\n",
      "        ...,\n",
      "        [0.1393, 0.1557, 0.7049],\n",
      "        [0.3360, 0.3291, 0.3348],\n",
      "        [0.3968, 0.3378, 0.2654]], device='cuda:0')\n"
     ]
    },
    {
     "data": {
      "text/plain": [
       "torch.Size([131072, 2])"
      ]
     },
     "execution_count": 73,
     "metadata": {},
     "output_type": "execute_result"
    }
   ],
   "source": [
    "dec_norms = []\n",
    "\n",
    "with torch.no_grad():\n",
    "    for dec in decoders:\n",
    "        dec_norms.append(dec.norm(dim=0))\n",
    "\n",
    "dec_norms = torch.stack(dec_norms)\n",
    "dec_norms = dec_norms / dec_norms.sum(dim=0)\n",
    "print(dec_norms)\n",
    "dec_norms = dec_norms.T\n",
    "print(dec_norms)\n",
    "dec_norms = dec_norms[:, [0, 2]]\n",
    "dec_norms.shape"
   ]
  },
  {
   "cell_type": "code",
   "execution_count": 12,
   "metadata": {},
   "outputs": [
    {
     "data": {
      "text/plain": [
       "118264"
      ]
     },
     "execution_count": 12,
     "metadata": {},
     "output_type": "execute_result"
    }
   ],
   "source": [
    "diff = torch.abs(dec_norms[:, 0] - dec_norms[:, 1])\n",
    "indices = torch.where(diff < 0.1)[0].tolist()\n",
    "len(indices)"
   ]
  },
  {
   "cell_type": "code",
   "execution_count": 13,
   "metadata": {},
   "outputs": [
    {
     "name": "stdout",
     "output_type": "stream",
     "text": [
      "tensor([[-0.0097,  0.0082,  0.0036,  ..., -0.0334,  0.0075, -0.0054],\n",
      "        [-0.0056, -0.0061,  0.0340,  ..., -0.0184, -0.0011, -0.0003],\n",
      "        [-0.0169, -0.0315,  0.0158,  ..., -0.0056,  0.0282, -0.0174],\n",
      "        ...,\n",
      "        [ 0.0101,  0.0118,  0.0109,  ...,  0.0049,  0.0134, -0.0005],\n",
      "        [ 0.0141,  0.0025,  0.0281,  ..., -0.0057,  0.0161, -0.0165],\n",
      "        [ 0.0013, -0.0051,  0.0091,  ..., -0.0014, -0.0124, -0.0021]],\n",
      "       device='cuda:0')\n"
     ]
    },
    {
     "data": {
      "text/plain": [
       "tensor([[-1.0158e-02,  5.9976e-03,  3.5641e-03,  ..., -3.6230e-02,\n",
       "          7.0926e-03, -4.9541e-03],\n",
       "        [-1.7913e-03, -7.9027e-03,  3.3743e-02,  ..., -1.7331e-02,\n",
       "         -4.0826e-04,  6.4483e-04],\n",
       "        [-1.8993e-02, -3.4891e-02,  1.1941e-02,  ..., -5.1350e-03,\n",
       "          2.7872e-02, -2.0528e-02],\n",
       "        ...,\n",
       "        [ 1.0731e-02,  1.6392e-02,  4.1532e-03,  ...,  4.9065e-03,\n",
       "          1.4126e-02,  7.1814e-04],\n",
       "        [ 1.3526e-02,  9.8601e-03,  2.4040e-02,  ..., -1.2966e-02,\n",
       "          1.4115e-02, -1.0489e-02],\n",
       "        [ 9.0484e-04, -6.2776e-03,  1.1345e-02,  ...,  4.7754e-05,\n",
       "         -1.8404e-02, -3.4315e-03]], device='cuda:0')"
      ]
     },
     "execution_count": 13,
     "metadata": {},
     "output_type": "execute_result"
    }
   ],
   "source": [
    "filtered_b = decoders[0].T[indices]\n",
    "filtered_o = decoders[1].T[indices]\n",
    "print(filtered_b)\n",
    "filtered_o"
   ]
  },
  {
   "cell_type": "code",
   "execution_count": 14,
   "metadata": {},
   "outputs": [
    {
     "data": {
      "text/plain": [
       "torch.Size([103428])"
      ]
     },
     "execution_count": 14,
     "metadata": {},
     "output_type": "execute_result"
    }
   ],
   "source": [
    "cos_sim = F.cosine_similarity(filtered_b, filtered_o)\n",
    "# cos_sim.shape\n",
    "torch.where(cos_sim < 0.99)[0].shape"
   ]
  },
  {
   "cell_type": "code",
   "execution_count": 15,
   "metadata": {},
   "outputs": [
    {
     "data": {
      "text/plain": [
       "tensor([0.0000, 0.0000, 0.0000, 0.0000, 0.0000, 0.0000, 0.0000, 0.0000, 0.0000,\n",
       "        0.0000, 0.0000, 0.0000, 0.3010, 0.0000, 0.3010, 0.6021, 0.6021, 0.6021,\n",
       "        0.9031, 0.9031, 1.0414, 1.2304, 1.2553, 1.0414, 1.2788, 1.3617, 1.2553,\n",
       "        1.0792, 1.2041, 1.0792, 1.3010, 1.2041, 1.0792, 1.0792, 1.1761, 1.3222,\n",
       "        1.2041, 0.9031, 1.0792, 0.6021, 1.0792, 0.8451, 1.0000, 0.8451, 0.9542,\n",
       "        0.7782, 0.9542, 1.1139, 0.6990, 0.6021, 0.7782, 0.9031, 0.9031, 0.6021,\n",
       "        0.6021, 0.4771, 0.4771, 0.8451, 0.9031, 0.4771, 0.7782, 0.6990, 0.4771,\n",
       "        0.6990, 0.3010, 0.6990, 0.0000, 0.6990, 0.6990, 0.6990, 0.8451, 0.9031,\n",
       "        0.6990, 0.4771, 0.9542, 0.9542, 0.8451, 1.1761, 1.1139, 1.0000, 1.1139,\n",
       "        1.3222, 1.1761, 1.3424, 1.4914, 1.5185, 1.7076, 1.8129, 1.7709, 2.0170,\n",
       "        2.1931, 2.3522, 2.4969, 2.7340, 3.0095, 3.3872, 3.8532, 4.0900, 4.5576,\n",
       "        4.7560], device='cuda:0')"
      ]
     },
     "execution_count": 15,
     "metadata": {},
     "output_type": "execute_result"
    }
   ],
   "source": [
    "log_counts = torch.log10(torch.histc(cos_sim, bins=100, min=-1, max=1))\n",
    "log_counts = torch.where(torch.histc(cos_sim, bins=100, min=-1, max=1) == 0, torch.tensor(0), log_counts)\n",
    "log_counts"
   ]
  },
  {
   "cell_type": "code",
   "execution_count": 16,
   "metadata": {},
   "outputs": [],
   "source": [
    "bins = 100\n",
    "bin_width = (1 - (-1)) / bins\n",
    "bin_centers = torch.linspace(-1 + bin_width / 2, 1 - bin_width / 2, bins)"
   ]
  },
  {
   "cell_type": "code",
   "execution_count": 17,
   "metadata": {},
   "outputs": [
    {
     "data": {
      "image/png": "[encoded data removed]",
      "text/plain": [
       "<Figure size 640x480 with 1 Axes>"
      ]
     },
     "metadata": {},
     "output_type": "display_data"
    }
   ],
   "source": [
    "plt.bar(bin_centers.cpu().numpy(), log_counts.cpu().numpy(), width=bin_width)\n",
    "plt.xlabel(\"Cosine Similarity\")\n",
    "plt.ylabel(\"Log of Frequency\")\n",
    "plt.title(\"Log of Cosine Similarity Frequency\")\n",
    "plt.show()"
   ]
  },
  {
   "cell_type": "code",
   "execution_count": 18,
   "metadata": {},
   "outputs": [],
   "source": [
    "encoders = []\n",
    "\n",
    "for path in cc_paths:\n",
    "    ckpt = load_file(path)\n",
    "\n",
    "    # scaling_factor = (4096 ** .5) / ckpt[f'dataset_average_activation_norm.blocks.{layer}.hook_resid_post']\n",
    "    encoders.append(ckpt[\"encoder.weight\"].to(\"cuda\"))"
   ]
  },
  {
   "cell_type": "code",
   "execution_count": 31,
   "metadata": {},
   "outputs": [
    {
     "data": {
      "text/plain": [
       "torch.Size([131072, 4096])"
      ]
     },
     "execution_count": 31,
     "metadata": {},
     "output_type": "execute_result"
    }
   ],
   "source": [
    "encoders[0].shape"
   ]
  },
  {
   "cell_type": "code",
   "execution_count": 36,
   "metadata": {},
   "outputs": [
    {
     "data": {
      "text/plain": [
       "torch.Size([118264, 4096])"
      ]
     },
     "execution_count": 36,
     "metadata": {},
     "output_type": "execute_result"
    }
   ],
   "source": [
    "b_enc = encoders[0]\n",
    "o_enc = encoders[2]\n",
    "filtered_b_enc = b_enc[indices]\n",
    "filtered_o_enc = o_enc[indices]\n",
    "filtered_o_enc.shape"
   ]
  },
  {
   "cell_type": "code",
   "execution_count": 56,
   "metadata": {},
   "outputs": [
    {
     "data": {
      "text/plain": [
       "torch.Size([1601])"
      ]
     },
     "execution_count": 56,
     "metadata": {},
     "output_type": "execute_result"
    }
   ],
   "source": [
    "cos_sim_enc = F.cosine_similarity(filtered_b_enc, filtered_o_enc)\n",
    "torch.where(cos_sim_enc < 0.1)[0].shape"
   ]
  },
  {
   "cell_type": "code",
   "execution_count": 53,
   "metadata": {},
   "outputs": [
    {
     "name": "stdout",
     "output_type": "stream",
     "text": [
      "tensor([0.0000e+00, 0.0000e+00, 0.0000e+00, 0.0000e+00, 0.0000e+00, 0.0000e+00,\n",
      "        0.0000e+00, 0.0000e+00, 0.0000e+00, 0.0000e+00, 0.0000e+00, 0.0000e+00,\n",
      "        0.0000e+00, 0.0000e+00, 0.0000e+00, 0.0000e+00, 0.0000e+00, 0.0000e+00,\n",
      "        0.0000e+00, 0.0000e+00, 0.0000e+00, 0.0000e+00, 3.0000e+00, 3.0000e+00,\n",
      "        4.0000e+00, 4.0000e+00, 1.1000e+01, 1.1000e+01, 4.0000e+00, 5.0000e+00,\n",
      "        1.1000e+01, 1.4000e+01, 1.1000e+01, 2.2000e+01, 2.0000e+01, 2.1000e+01,\n",
      "        2.4000e+01, 2.0000e+01, 2.4000e+01, 4.1000e+01, 5.5000e+01, 7.2000e+01,\n",
      "        7.2000e+01, 8.4000e+01, 1.1200e+02, 1.0800e+02, 1.0000e+02, 7.7000e+01,\n",
      "        7.0000e+01, 6.2000e+01, 7.4000e+01, 8.4000e+01, 1.0700e+02, 1.1300e+02,\n",
      "        1.5800e+02, 2.2000e+02, 2.5400e+02, 3.4500e+02, 4.7800e+02, 6.1300e+02,\n",
      "        8.2700e+02, 1.2280e+03, 1.9310e+03, 2.9070e+03, 4.5760e+03, 6.6380e+03,\n",
      "        8.7470e+03, 1.0541e+04, 1.1794e+04, 1.1485e+04, 1.0257e+04, 8.5950e+03,\n",
      "        6.8620e+03, 5.7670e+03, 4.9720e+03, 4.3600e+03, 3.6960e+03, 3.1790e+03,\n",
      "        2.3070e+03, 1.6510e+03, 1.0450e+03, 6.5800e+02, 3.7100e+02, 2.0200e+02,\n",
      "        1.0100e+02, 2.7000e+01, 6.0000e+00, 6.0000e+00, 3.0000e+00, 3.0000e+00,\n",
      "        4.0000e+00, 3.0000e+00, 2.0000e+00, 1.0000e+00, 1.0000e+00, 0.0000e+00,\n",
      "        0.0000e+00, 0.0000e+00, 0.0000e+00, 0.0000e+00], device='cuda:0')\n"
     ]
    },
    {
     "data": {
      "text/plain": [
       "tensor([0.0000, 0.0000, 0.0000, 0.0000, 0.0000, 0.0000, 0.0000, 0.0000, 0.0000,\n",
       "        0.0000, 0.0000, 0.0000, 0.0000, 0.0000, 0.0000, 0.0000, 0.0000, 0.0000,\n",
       "        0.0000, 0.0000, 0.0000, 0.0000, 0.4771, 0.4771, 0.6021, 0.6021, 1.0414,\n",
       "        1.0414, 0.6021, 0.6990, 1.0414, 1.1461, 1.0414, 1.3424, 1.3010, 1.3222,\n",
       "        1.3802, 1.3010, 1.3802, 1.6128, 1.7404, 1.8573, 1.8573, 1.9243, 2.0492,\n",
       "        2.0334, 2.0000, 1.8865, 1.8451, 1.7924, 1.8692, 1.9243, 2.0294, 2.0531,\n",
       "        2.1987, 2.3424, 2.4048, 2.5378, 2.6794, 2.7875, 2.9175, 3.0892, 3.2858,\n",
       "        3.4634, 3.6605, 3.8220, 3.9419, 4.0229, 4.0717, 4.0601, 4.0110, 3.9342,\n",
       "        3.8365, 3.7610, 3.6965, 3.6395, 3.5677, 3.5023, 3.3630, 3.2177, 3.0191,\n",
       "        2.8182, 2.5694, 2.3054, 2.0043, 1.4314, 0.7782, 0.7782, 0.4771, 0.4771,\n",
       "        0.6021, 0.4771, 0.3010, 0.0000, 0.0000, 0.0000, 0.0000, 0.0000, 0.0000,\n",
       "        0.0000], device='cuda:0')"
      ]
     },
     "execution_count": 53,
     "metadata": {},
     "output_type": "execute_result"
    }
   ],
   "source": [
    "hist_enc = torch.histc(cos_sim_enc, bins=100, min=-1, max=1)\n",
    "log_counts_enc = torch.log10(hist_enc)\n",
    "log_counts_enc = torch.where(hist_enc == 0, torch.tensor(0), log_counts_enc)\n",
    "print(hist_enc)\n",
    "log_counts_enc"
   ]
  },
  {
   "cell_type": "code",
   "execution_count": 54,
   "metadata": {},
   "outputs": [
    {
     "data": {
      "image/png": "[encoded data removed]",
      "text/plain": [
       "<Figure size 640x480 with 1 Axes>"
      ]
     },
     "metadata": {},
     "output_type": "display_data"
    }
   ],
   "source": [
    "plt.bar(bin_centers.cpu().numpy(), log_counts_enc.cpu().numpy(), width=bin_width)\n",
    "plt.xlabel(\"Cosine Similarity\")\n",
    "plt.ylabel(\"Log of Frequency\")\n",
    "plt.title(\"Log of Cosine Similarity Frequency for encoders\")\n",
    "plt.show()"
   ]
  },
  {
   "cell_type": "code",
   "execution_count": 65,
   "metadata": {},
   "outputs": [
    {
     "data": {
      "text/plain": [
       "[49760,\n",
       " 91777,\n",
       " 24353,\n",
       " 117571,\n",
       " 35789,\n",
       " 89943,\n",
       " 98640,\n",
       " 65495,\n",
       " 40051,\n",
       " 39956,\n",
       " 116244,\n",
       " 98932,\n",
       " 93302,\n",
       " 89688,\n",
       " 29881,\n",
       " 69018,\n",
       " 70459]"
      ]
     },
     "execution_count": 65,
     "metadata": {},
     "output_type": "execute_result"
    }
   ],
   "source": [
    "cos_sim_dec_all = F.cosine_similarity(decoders[0].T, decoders[2].T)\n",
    "negsimid = torch.where(cos_sim_dec_all < -0.7)[0].tolist()\n",
    "interesting_id = list(set(negsimid) & set(indices))\n",
    "interesting_id"
   ]
  },
  {
   "cell_type": "code",
   "execution_count": 72,
   "metadata": {},
   "outputs": [
    {
     "data": {
      "text/plain": [
       "tensor([-0.3801, -0.2907, -0.3259, -0.1048, -0.3668, -0.0113, -0.5261, -0.3039,\n",
       "        -0.3218, -0.0827, -0.3504, -0.4042, -0.4077, -0.1657, -0.5169, -0.4605,\n",
       "        -0.3365], device='cuda:0')"
      ]
     },
     "execution_count": 72,
     "metadata": {},
     "output_type": "execute_result"
    }
   ],
   "source": [
    "cos_sim_enc_all = F.cosine_similarity(encoders[0], encoders[2])\n",
    "cos_sim_enc_all[interesting_id]"
   ]
  },
  {
   "cell_type": "code",
   "execution_count": 70,
   "metadata": {},
   "outputs": [
    {
     "data": {
      "text/plain": [
       "tensor([-0.8593, -0.8101, -0.7474, -0.7252, -0.7676, -0.7274, -0.8766, -0.7104,\n",
       "        -0.7374, -0.7791, -0.7041, -0.8593, -0.8209, -0.8519, -0.8222, -0.8124,\n",
       "        -0.7253], device='cuda:0')"
      ]
     },
     "execution_count": 70,
     "metadata": {},
     "output_type": "execute_result"
    }
   ],
   "source": [
    "cos_sim_dec_all[interesting_id]"
   ]
  }
 ],
 "metadata": {
  "kernelspec": {
   "display_name": "Python (myenv)",
   "language": "python",
   "name": "myenv"
  },
  "language_info": {
   "codemirror_mode": {
    "name": "ipython",
    "version": 3
   },
   "file_extension": ".py",
   "mimetype": "text/x-python",
   "name": "python",
   "nbconvert_exporter": "python",
   "pygments_lexer": "ipython3",
   "version": "3.12.8"
  }
 },
 "nbformat": 4,
 "nbformat_minor": 2
}
