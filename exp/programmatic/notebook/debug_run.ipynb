{
 "cells": [
  {
   "cell_type": "code",
   "execution_count": 1,
   "metadata": {},
   "outputs": [],
   "source": [
    "from lm_saes import (\n",
    "    LanguageModelConfig,\n",
    ")\n",
    "from lm_saes.resource_loaders import load_dataset, load_model"
   ]
  },
  {
   "cell_type": "code",
   "execution_count": 2,
   "metadata": {},
   "outputs": [
    {
     "data": {
      "application/vnd.jupyter.widget-view+json": {
       "model_id": "d5b48ac409414b1aba19e8f6921e8a36",
       "version_major": 2,
       "version_minor": 0
      },
      "text/plain": [
       "Loading checkpoint shards:   0%|          | 0/4 [00:00<?, ?it/s]"
      ]
     },
     "metadata": {},
     "output_type": "display_data"
    },
    {
     "name": "stdout",
     "output_type": "stream",
     "text": [
      "Loaded pretrained model meta-llama/Llama-3.1-8B into HookedTransformer\n"
     ]
    }
   ],
   "source": [
    "model_cfg = LanguageModelConfig(\n",
    "    model_name=\"meta-llama/Llama-3.1-8B\",\n",
    "    model_from_pretrained_path=\"/inspire/hdd/ws-8207e9e2-e733-4eec-a475-cfa1c36480ba/embodied-multimodality/public/zfhe/jiaxing_projects/Language-Model-SAEs/exp/diff_models/Llama-3.1-8B\",\n",
    "    device=\"cuda\",\n",
    "    dtype=\"torch.bfloat16\",\n",
    ")\n",
    "\n",
    "model = load_model(model_cfg)"
   ]
  },
  {
   "cell_type": "code",
   "execution_count": null,
   "metadata": {},
   "outputs": [],
   "source": [
    "dataset, metadata = load_dataset(\n",
    "    dataset_cfg,\n",
    "    device_mesh=device_mesh,\n",
    "    n_shards=settings.n_shards,\n",
    "    start_shard=settings.start_shard,\n",
    ")"
   ]
  },
  {
   "cell_type": "code",
   "execution_count": 2,
   "metadata": {},
   "outputs": [
    {
     "name": "stdout",
     "output_type": "stream",
     "text": [
      "{}\n",
      "{'blocks.23.hook_resid_post': tensor([[[-0.0139, -0.0264, -0.0125,  ...,  0.1924,  0.3516,  0.1035],\n",
      "         [-0.1699,  0.0391,  0.2256,  ...,  0.1006,  0.3457, -0.1455],\n",
      "         [-0.2773, -0.2891, -0.0581,  ...,  0.0015,  0.0071,  0.4902],\n",
      "         ...,\n",
      "         [-0.2285, -0.2207, -0.4707,  ...,  0.1621, -0.0220, -0.1611],\n",
      "         [-0.0620, -0.3887, -0.1748,  ...,  0.1089,  0.1416, -0.2227],\n",
      "         [-0.8047, -0.6797,  0.2148,  ...,  0.0242,  0.0723, -0.0723]]],\n",
      "       device='cuda:0', dtype=torch.bfloat16)}\n"
     ]
    },
    {
     "data": {
      "text/plain": [
       "(tensor([[[-0.0139, -0.0264, -0.0125,  ...,  0.1924,  0.3516,  0.1035],\n",
       "          [-0.1699,  0.0391,  0.2256,  ...,  0.1006,  0.3457, -0.1455],\n",
       "          [-0.2773, -0.2891, -0.0581,  ...,  0.0015,  0.0071,  0.4902],\n",
       "          ...,\n",
       "          [-0.2285, -0.2207, -0.4707,  ...,  0.1621, -0.0220, -0.1611],\n",
       "          [-0.0620, -0.3887, -0.1748,  ...,  0.1089,  0.1416, -0.2227],\n",
       "          [-0.8047, -0.6797,  0.2148,  ...,  0.0242,  0.0723, -0.0723]]],\n",
       "        device='cuda:0', dtype=torch.bfloat16),\n",
       " {'blocks.23.hook_resid_post': tensor([[[-0.0139, -0.0264, -0.0125,  ...,  0.1924,  0.3516,  0.1035],\n",
       "           [-0.1699,  0.0391,  0.2256,  ...,  0.1006,  0.3457, -0.1455],\n",
       "           [-0.2773, -0.2891, -0.0581,  ...,  0.0015,  0.0071,  0.4902],\n",
       "           ...,\n",
       "           [-0.2285, -0.2207, -0.4707,  ...,  0.1621, -0.0220, -0.1611],\n",
       "           [-0.0620, -0.3887, -0.1748,  ...,  0.1089,  0.1416, -0.2227],\n",
       "           [-0.8047, -0.6797,  0.2148,  ...,  0.0242,  0.0723, -0.0723]]],\n",
       "         device='cuda:0', dtype=torch.bfloat16)})"
      ]
     },
     "execution_count": 2,
     "metadata": {},
     "output_type": "execute_result"
    }
   ],
   "source": [
    "factory_cfg = ActivationFactoryConfig(\n",
    "    sources=[ActivationFactoryDatasetSource(name=settings.dataset_name)],\n",
    "    target=settings.target,\n",
    "    hook_points=settings.hook_points,\n",
    "    context_size=settings.context_size,\n",
    "    model_batch_size=settings.model_batch_size,\n",
    "    batch_size=settings.batch_size,\n",
    "    buffer_size=settings.buffer_size,\n",
    "    buffer_shuffle=settings.buffer_shuffle,\n",
    ")"
   ]
  }
 ],
 "metadata": {
  "kernelspec": {
   "display_name": "Python (myenv)",
   "language": "python",
   "name": "myenv"
  },
  "language_info": {
   "codemirror_mode": {
    "name": "ipython",
    "version": 3
   },
   "file_extension": ".py",
   "mimetype": "text/x-python",
   "name": "python",
   "nbconvert_exporter": "python",
   "pygments_lexer": "ipython3",
   "version": "3.12.8"
  }
 },
 "nbformat": 4,
 "nbformat_minor": 2
}
