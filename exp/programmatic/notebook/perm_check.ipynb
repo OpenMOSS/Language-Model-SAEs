{
 "cells": [
  {
   "cell_type": "code",
   "execution_count": 23,
   "metadata": {},
   "outputs": [],
   "source": [
    "import safetensors.torch as safe\n",
    "\n",
    "l = safe.load_file\n",
    "b15_099 = l(\n",
    "    \"/inspire/hdd/ws-8207e9e2-e733-4eec-a475-cfa1c36480ba/embodied-multimodality/public/zfhe/jiaxing_projects/Language-Model-SAEs/exp/gen_act/b-1d/blocks.15.hook_resid_post/shard-0-chunk-00000099.safetensors\"\n",
    ")\n",
    "b7_099 = l(\n",
    "    \"/inspire/hdd/ws-8207e9e2-e733-4eec-a475-cfa1c36480ba/embodied-multimodality/public/zfhe/jiaxing_projects/Language-Model-SAEs/exp/gen_act/b-1d/blocks.7.hook_resid_post/shard-0-chunk-00000099.safetensors\"\n",
    ")\n",
    "b23_099 = l(\n",
    "    \"/inspire/hdd/ws-8207e9e2-e733-4eec-a475-cfa1c36480ba/embodied-multimodality/public/zfhe/jiaxing_projects/Language-Model-SAEs/exp/gen_act/b-1d/blocks.23.hook_resid_post/shard-0-chunk-00000099.safetensors\"\n",
    ")\n",
    "\n",
    "i15_099 = l(\n",
    "    \"/inspire/hdd/ws-8207e9e2-e733-4eec-a475-cfa1c36480ba/embodied-multimodality/public/zfhe/jiaxing_projects/Language-Model-SAEs/exp/gen_act/i-1d/blocks.15.hook_resid_post/shard-0-chunk-00000099.safetensors\"\n",
    ")\n",
    "i7_099 = l(\n",
    "    \"/inspire/hdd/ws-8207e9e2-e733-4eec-a475-cfa1c36480ba/embodied-multimodality/public/zfhe/jiaxing_projects/Language-Model-SAEs/exp/gen_act/i-1d/blocks.7.hook_resid_post/shard-0-chunk-00000099.safetensors\"\n",
    ")\n",
    "i23_099 = l(\n",
    "    \"/inspire/hdd/ws-8207e9e2-e733-4eec-a475-cfa1c36480ba/embodied-multimodality/public/zfhe/jiaxing_projects/Language-Model-SAEs/exp/gen_act/i-1d/blocks.23.hook_resid_post/shard-0-chunk-00000099.safetensors\"\n",
    ")\n",
    "\n",
    "o15_099 = l(\n",
    "    \"/inspire/hdd/ws-8207e9e2-e733-4eec-a475-cfa1c36480ba/embodied-multimodality/public/zfhe/jiaxing_projects/Language-Model-SAEs/exp/gen_act/o-1d/blocks.15.hook_resid_post/shard-0-chunk-00000099.safetensors\"\n",
    ")\n",
    "o7_099 = l(\n",
    "    \"/inspire/hdd/ws-8207e9e2-e733-4eec-a475-cfa1c36480ba/embodied-multimodality/public/zfhe/jiaxing_projects/Language-Model-SAEs/exp/gen_act/o-1d/blocks.7.hook_resid_post/shard-0-chunk-00000099.safetensors\"\n",
    ")\n",
    "o23_099 = l(\n",
    "    \"/inspire/hdd/ws-8207e9e2-e733-4eec-a475-cfa1c36480ba/embodied-multimodality/public/zfhe/jiaxing_projects/Language-Model-SAEs/exp/gen_act/o-1d/blocks.23.hook_resid_post/shard-0-chunk-00000099.safetensors\"\n",
    ")"
   ]
  },
  {
   "cell_type": "code",
   "execution_count": 24,
   "metadata": {},
   "outputs": [],
   "source": [
    "b15_350 = l(\n",
    "    \"/inspire/hdd/ws-8207e9e2-e733-4eec-a475-cfa1c36480ba/embodied-multimodality/public/zfhe/jiaxing_projects/Language-Model-SAEs/exp/gen_act/b-1d/blocks.15.hook_resid_post/shard-0-chunk-00000350.safetensors\"\n",
    ")\n",
    "b7_350 = l(\n",
    "    \"/inspire/hdd/ws-8207e9e2-e733-4eec-a475-cfa1c36480ba/embodied-multimodality/public/zfhe/jiaxing_projects/Language-Model-SAEs/exp/gen_act/b-1d/blocks.7.hook_resid_post/shard-0-chunk-00000350.safetensors\"\n",
    ")\n",
    "b23_350 = l(\n",
    "    \"/inspire/hdd/ws-8207e9e2-e733-4eec-a475-cfa1c36480ba/embodied-multimodality/public/zfhe/jiaxing_projects/Language-Model-SAEs/exp/gen_act/b-1d/blocks.23.hook_resid_post/shard-0-chunk-00000350.safetensors\"\n",
    ")\n",
    "\n",
    "i15_350 = l(\n",
    "    \"/inspire/hdd/ws-8207e9e2-e733-4eec-a475-cfa1c36480ba/embodied-multimodality/public/zfhe/jiaxing_projects/Language-Model-SAEs/exp/gen_act/i-1d/blocks.15.hook_resid_post/shard-0-chunk-00000350.safetensors\"\n",
    ")\n",
    "i7_350 = l(\n",
    "    \"/inspire/hdd/ws-8207e9e2-e733-4eec-a475-cfa1c36480ba/embodied-multimodality/public/zfhe/jiaxing_projects/Language-Model-SAEs/exp/gen_act/i-1d/blocks.7.hook_resid_post/shard-0-chunk-00000350.safetensors\"\n",
    ")\n",
    "i23_350 = l(\n",
    "    \"/inspire/hdd/ws-8207e9e2-e733-4eec-a475-cfa1c36480ba/embodied-multimodality/public/zfhe/jiaxing_projects/Language-Model-SAEs/exp/gen_act/i-1d/blocks.23.hook_resid_post/shard-0-chunk-00000350.safetensors\"\n",
    ")\n",
    "\n",
    "o15_350 = l(\n",
    "    \"/inspire/hdd/ws-8207e9e2-e733-4eec-a475-cfa1c36480ba/embodied-multimodality/public/zfhe/jiaxing_projects/Language-Model-SAEs/exp/gen_act/o-1d/blocks.15.hook_resid_post/shard-0-chunk-00000350.safetensors\"\n",
    ")\n",
    "o7_350 = l(\n",
    "    \"/inspire/hdd/ws-8207e9e2-e733-4eec-a475-cfa1c36480ba/embodied-multimodality/public/zfhe/jiaxing_projects/Language-Model-SAEs/exp/gen_act/o-1d/blocks.7.hook_resid_post/shard-0-chunk-00000350.safetensors\"\n",
    ")\n",
    "o23_350 = l(\n",
    "    \"/inspire/hdd/ws-8207e9e2-e733-4eec-a475-cfa1c36480ba/embodied-multimodality/public/zfhe/jiaxing_projects/Language-Model-SAEs/exp/gen_act/o-1d/blocks.23.hook_resid_post/shard-0-chunk-00000350.safetensors\"\n",
    ")"
   ]
  },
  {
   "cell_type": "code",
   "execution_count": 25,
   "metadata": {},
   "outputs": [
    {
     "data": {
      "text/plain": [
       "{'activation': tensor([[ 0.1924, -0.0430, -0.0049,  ..., -0.1543,  0.1240,  0.0103],\n",
       "         [ 0.1953,  0.0664,  0.0415,  ...,  0.2930, -0.1523,  0.2812],\n",
       "         [-0.0115, -0.0400, -0.0469,  ..., -0.1494, -0.2734,  0.0530],\n",
       "         ...,\n",
       "         [ 0.0820, -0.0586, -0.0232,  ..., -0.0145, -0.0193,  0.1758],\n",
       "         [-0.0205,  0.1475, -0.0674,  ..., -0.0386, -0.0898,  0.1074],\n",
       "         [ 0.4258, -0.0225, -0.0435,  ...,  0.1045,  0.1191,  0.1226]],\n",
       "        dtype=torch.bfloat16),\n",
       " 'tokens': tensor([449, 420, 966,  ..., 323,  20, 280])}"
      ]
     },
     "execution_count": 25,
     "metadata": {},
     "output_type": "execute_result"
    }
   ],
   "source": [
    "b15_099"
   ]
  },
  {
   "cell_type": "code",
   "execution_count": 26,
   "metadata": {},
   "outputs": [
    {
     "data": {
      "text/plain": [
       "{'activation': tensor([[-0.0010,  0.2148,  0.0515,  ...,  0.1953,  0.0574, -0.0996],\n",
       "         [ 0.0093, -0.2520, -0.1055,  ...,  0.0601, -0.0903, -0.1025],\n",
       "         [ 0.0376, -0.2246, -0.1094,  ...,  0.0630, -0.0923,  0.0889],\n",
       "         ...,\n",
       "         [ 0.1836,  0.1108, -0.1973,  ..., -0.0811, -0.2930,  0.2520],\n",
       "         [ 0.0518, -0.1543, -0.1235,  ...,  0.1611, -0.0503,  0.0071],\n",
       "         [-0.0137, -0.1738,  0.1030,  ..., -0.1934, -0.3262, -0.1157]],\n",
       "        dtype=torch.bfloat16),\n",
       " 'tokens': tensor([  315,   279, 87418,  ...,  1162, 68124,  6230])}"
      ]
     },
     "execution_count": 26,
     "metadata": {},
     "output_type": "execute_result"
    }
   ],
   "source": [
    "b15_350"
   ]
  }
 ],
 "metadata": {
  "kernelspec": {
   "display_name": "Python (myenv)",
   "language": "python",
   "name": "myenv"
  },
  "language_info": {
   "codemirror_mode": {
    "name": "ipython",
    "version": 3
   },
   "file_extension": ".py",
   "mimetype": "text/x-python",
   "name": "python",
   "nbconvert_exporter": "python",
   "pygments_lexer": "ipython3",
   "version": "3.12.8"
  }
 },
 "nbformat": 4,
 "nbformat_minor": 2
}
